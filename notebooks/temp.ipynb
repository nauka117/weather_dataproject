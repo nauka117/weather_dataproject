{
 "cells": [
  {
   "metadata": {},
   "cell_type": "markdown",
   "source": [
    "# Temp notebook\n",
    "\n",
    "here i gonna check everything that I put in src packages"
   ],
   "id": "c928d121d3b43c99"
  },
  {
   "metadata": {
    "ExecuteTime": {
     "end_time": "2025-01-29T08:53:37.467745Z",
     "start_time": "2025-01-29T08:53:37.460139Z"
    }
   },
   "cell_type": "code",
   "source": "print(\"Grass on the street, firewood on the grass!\")",
   "id": "1a87b519c64c3e46",
   "outputs": [
    {
     "name": "stdout",
     "output_type": "stream",
     "text": [
      "Grass on the street, firewood on the grass!\n"
     ]
    }
   ],
   "execution_count": 2
  }
 ],
 "metadata": {
  "kernelspec": {
   "display_name": "Python 3",
   "language": "python",
   "name": "python3"
  },
  "language_info": {
   "codemirror_mode": {
    "name": "ipython",
    "version": 2
   },
   "file_extension": ".py",
   "mimetype": "text/x-python",
   "name": "python",
   "nbconvert_exporter": "python",
   "pygments_lexer": "ipython2",
   "version": "2.7.6"
  }
 },
 "nbformat": 4,
 "nbformat_minor": 5
}
