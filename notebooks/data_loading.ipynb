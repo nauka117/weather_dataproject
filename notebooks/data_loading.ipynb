{
 "cells": [
  {
   "metadata": {},
   "cell_type": "markdown",
   "source": [
    "# data loading notebook\n",
    "\n",
    "Here i'll use data_loader package to request data from different sources and save it to json files"
   ],
   "id": "91b5ed027bba9ed8"
  },
  {
   "metadata": {
    "ExecuteTime": {
     "end_time": "2025-02-15T16:15:59.175931Z",
     "start_time": "2025-02-15T16:15:59.167708Z"
    }
   },
   "cell_type": "code",
   "source": "print(\"Cell just to activate jupyter kernel from pycharm\")",
   "id": "1a87b519c64c3e46",
   "outputs": [
    {
     "name": "stdout",
     "output_type": "stream",
     "text": [
      "Cell just to activate jupyter kernel from pycharm\n"
     ]
    }
   ],
   "execution_count": 1
  },
  {
   "metadata": {},
   "cell_type": "markdown",
   "source": [
    "## Importing packages\n",
    "\n",
    "## For weather"
   ],
   "id": "fb69e1d5fcdf127f"
  },
  {
   "metadata": {
    "ExecuteTime": {
     "end_time": "2025-02-15T16:16:03.268320Z",
     "start_time": "2025-02-15T16:16:03.263698Z"
    }
   },
   "cell_type": "code",
   "source": [
    "from src.data_loading.loader import request_and_save\n",
    "\n",
    "from src.data_loading.weather_requests import (\n",
    "    HistoryWeatherRequestOWM,\n",
    "    HistoryWeatherRequestVC,\n",
    "    HistoryWeatherRequestWeatherbit,\n",
    "    HistoryWeatherRequestWeatherapi,\n",
    "    HistoryWeatherRequestMeteostat\n",
    ")"
   ],
   "id": "a03be2f0abecbfd8",
   "outputs": [],
   "execution_count": 4
  },
  {
   "metadata": {},
   "cell_type": "markdown",
   "source": "### For date loops",
   "id": "fda6ff5e50f7bdff"
  },
  {
   "metadata": {
    "ExecuteTime": {
     "end_time": "2025-02-15T16:16:02.167916Z",
     "start_time": "2025-02-15T16:16:02.161159Z"
    }
   },
   "cell_type": "code",
   "source": [
    "from datetime import (\n",
    "    datetime,\n",
    "    timedelta\n",
    ")"
   ],
   "id": "388f5ecbcf2e9eee",
   "outputs": [],
   "execution_count": 3
  },
  {
   "metadata": {},
   "cell_type": "markdown",
   "source": "## Writing simple loops to load a lot of data",
   "id": "b19e0dc2e27fa405"
  },
  {
   "metadata": {
    "ExecuteTime": {
     "end_time": "2025-02-15T16:16:04.850057Z",
     "start_time": "2025-02-15T16:16:04.843844Z"
    }
   },
   "cell_type": "code",
   "source": "location = \"Rostov-on-Don\"",
   "id": "df271d1cae599843",
   "outputs": [],
   "execution_count": 5
  },
  {
   "metadata": {},
   "cell_type": "markdown",
   "source": "### OpenWeatherMap requests",
   "id": "a5ac40d6ec3d8077"
  },
  {
   "metadata": {
    "ExecuteTime": {
     "end_time": "2025-02-12T20:00:14.580929Z",
     "start_time": "2025-02-12T19:59:10.361150Z"
    }
   },
   "cell_type": "code",
   "source": [
    "OWM_query = HistoryWeatherRequestOWM()\n",
    "\n",
    "OWM_query.set_location_city(location)\n",
    "\n",
    "start_datetime = datetime.strptime(\"15.02.2024\", \"%d.%m.%Y\")\n",
    "end_datetime = datetime.strptime(\"07.02.2025\", \"%d.%m.%Y\")\n",
    "max_interval = timedelta(days=7)\n",
    "\n",
    "current_start = start_datetime\n",
    "\n",
    "while current_start < end_datetime:\n",
    "    current_end = min(current_start + max_interval, end_datetime)\n",
    "    start_iso = current_start.strftime(\"%Y-%m-%dT%H:%M:%S\")\n",
    "    end_iso = current_end.strftime(\"%Y-%m-%dT%H:%M:%S\")\n",
    "\n",
    "    OWM_query.set_start_datetime(start_datetime=start_iso)\n",
    "    OWM_query.set_end_datetime(end_datetime=end_iso)\n",
    "    try:\n",
    "        request_and_save(OWM_query)\n",
    "        current_start += max_interval\n",
    "    except Exception as e:\n",
    "        print(f\"Error: {e}\")\n",
    "        break"
   ],
   "id": "a9a0a2db59200fb4",
   "outputs": [],
   "execution_count": 5
  },
  {
   "metadata": {},
   "cell_type": "markdown",
   "source": "### VisualCrossing requests",
   "id": "50e2abb0b3e1ff4"
  },
  {
   "metadata": {
    "ExecuteTime": {
     "end_time": "2025-02-15T13:50:21.897028Z",
     "start_time": "2025-02-15T13:49:58.033502Z"
    }
   },
   "cell_type": "code",
   "source": [
    "VC_query = HistoryWeatherRequestVC()\n",
    "\n",
    "VC_query.set_location_city(location)\n",
    "\n",
    "start_datetime = datetime.strptime(\"01.02.1970\", \"%d.%m.%Y\")\n",
    "end_datetime = datetime.strptime(\"07.02.2025\", \"%d.%m.%Y\")\n",
    "max_interval = timedelta(days=7)\n",
    "\n",
    "current_start = start_datetime\n",
    "\n",
    "while current_start < end_datetime:\n",
    "    current_end = min(current_start + max_interval, end_datetime)\n",
    "    start_iso = current_start.strftime(\"%Y-%m-%dT%H:%M:%S\")\n",
    "    end_iso = current_end.strftime(\"%Y-%m-%dT%H:%M:%S\")\n",
    "\n",
    "    VC_query.set_start_datetime(start_datetime=start_iso)\n",
    "    VC_query.set_end_datetime(end_datetime=end_iso)\n",
    "    try:\n",
    "        request_and_save(VC_query)\n",
    "        current_start += max_interval\n",
    "    except Exception as e:\n",
    "        print(f\"Error: {e}\")\n",
    "        break"
   ],
   "id": "c986af63b8fc2e54",
   "outputs": [
    {
     "name": "stdout",
     "output_type": "stream",
     "text": [
      "Error: Expecting value: line 1 column 1 (char 0)\n"
     ]
    }
   ],
   "execution_count": 5
  },
  {
   "metadata": {},
   "cell_type": "markdown",
   "source": "### Weatherbit requests",
   "id": "248f2a6992ebdf5b"
  },
  {
   "metadata": {
    "ExecuteTime": {
     "end_time": "2025-02-15T14:37:06.814206Z",
     "start_time": "2025-02-15T14:36:09.474513Z"
    }
   },
   "cell_type": "code",
   "source": [
    "WB_query = HistoryWeatherRequestWeatherbit()\n",
    "\n",
    "WB_query.set_location_city(location)\n",
    "\n",
    "start_datetime = datetime.strptime(\"01.03.2000\", \"%d.%m.%Y\")\n",
    "end_datetime = datetime.strptime(\"07.02.2025\", \"%d.%m.%Y\")\n",
    "max_interval = timedelta(days=10)\n",
    "\n",
    "current_start = start_datetime\n",
    "\n",
    "while current_start < end_datetime:\n",
    "    current_end = min(current_start + max_interval, end_datetime)\n",
    "    start_iso = current_start.strftime(\"%Y-%m-%dT%H:%M:%S\")\n",
    "    end_iso = current_end.strftime(\"%Y-%m-%dT%H:%M:%S\")\n",
    "\n",
    "    WB_query.set_start_datetime(start_datetime=start_iso)\n",
    "    WB_query.set_end_datetime(end_datetime=end_iso)\n",
    "    try:\n",
    "        request_and_save(WB_query)\n",
    "        current_start += max_interval\n",
    "    except Exception as e:\n",
    "        print(f\"Error: {e}\")\n",
    "        break"
   ],
   "id": "9b4f64fe189dfc04",
   "outputs": [
    {
     "name": "stdout",
     "output_type": "stream",
     "text": [
      "Error: Expecting value: line 1 column 1 (char 0)\n"
     ]
    }
   ],
   "execution_count": 6
  },
  {
   "metadata": {},
   "cell_type": "markdown",
   "source": "### WeatherApi requests",
   "id": "2743d0e82e2db264"
  },
  {
   "metadata": {
    "ExecuteTime": {
     "end_time": "2025-02-15T15:09:15.217950Z",
     "start_time": "2025-02-15T15:08:57.312059Z"
    }
   },
   "cell_type": "code",
   "source": [
    "WA_query = HistoryWeatherRequestWeatherapi()\n",
    "\n",
    "WA_query.set_location_city(location)\n",
    "\n",
    "start_datetime = datetime.strptime(\"17.02.2024\", \"%d.%m.%Y\")\n",
    "end_datetime = datetime.strptime(\"10.02.2025\", \"%d.%m.%Y\")\n",
    "max_interval = timedelta(days=7)\n",
    "\n",
    "current_start = start_datetime\n",
    "\n",
    "while current_start < end_datetime:\n",
    "    current_end = min(current_start + max_interval, end_datetime)\n",
    "    start_iso = current_start.strftime(\"%Y-%m-%dT%H:%M:%S\")\n",
    "    end_iso = current_end.strftime(\"%Y-%m-%dT%H:%M:%S\")\n",
    "\n",
    "    WA_query.set_start_datetime(start_datetime=start_iso)\n",
    "    WA_query.set_end_datetime(end_datetime=end_iso)\n",
    "    try:\n",
    "        request_and_save(WA_query)\n",
    "        current_start += max_interval\n",
    "    except Exception as e:\n",
    "        print(f\"Error: {e}\")\n",
    "        break"
   ],
   "id": "35ef22d538edab74",
   "outputs": [],
   "execution_count": 5
  },
  {
   "metadata": {},
   "cell_type": "markdown",
   "source": "### Meteostat requests (done)",
   "id": "8c557514db272d6f"
  },
  {
   "metadata": {
    "ExecuteTime": {
     "end_time": "2025-02-15T16:18:03.595678Z",
     "start_time": "2025-02-15T16:16:09.930565Z"
    }
   },
   "cell_type": "code",
   "source": [
    "MS_query = HistoryWeatherRequestMeteostat()\n",
    "\n",
    "MS_query.set_location_city(location)\n",
    "\n",
    "start_datetime = datetime.strptime(\"01.02.2005\", \"%d.%m.%Y\")\n",
    "end_datetime = datetime.strptime(\"01.02.2025\", \"%d.%m.%Y\")\n",
    "max_interval = timedelta(days=30)\n",
    "\n",
    "current_start = start_datetime\n",
    "\n",
    "while current_start < end_datetime:\n",
    "    current_end = min(current_start + max_interval, end_datetime)\n",
    "    start_iso = current_start.strftime(\"%Y-%m-%dT%H:%M:%S\")\n",
    "    end_iso = current_end.strftime(\"%Y-%m-%dT%H:%M:%S\")\n",
    "\n",
    "    MS_query.set_start_datetime(start_datetime=start_iso)\n",
    "    MS_query.set_end_datetime(end_datetime=end_iso)\n",
    "    try:\n",
    "        request_and_save(MS_query)\n",
    "        current_start += max_interval\n",
    "    except Exception as e:\n",
    "        print(f\"Error: {e}\")\n",
    "        break"
   ],
   "id": "eaa244a499cbe5b",
   "outputs": [],
   "execution_count": 6
  }
 ],
 "metadata": {
  "kernelspec": {
   "display_name": "Python 3",
   "language": "python",
   "name": "python3"
  },
  "language_info": {
   "codemirror_mode": {
    "name": "ipython",
    "version": 2
   },
   "file_extension": ".py",
   "mimetype": "text/x-python",
   "name": "python",
   "nbconvert_exporter": "python",
   "pygments_lexer": "ipython2",
   "version": "2.7.6"
  }
 },
 "nbformat": 4,
 "nbformat_minor": 5
}
